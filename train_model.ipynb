{
  "cells": [
    {
      "cell_type": "markdown",
      "metadata": {},
      "source": [
        "# Xây dựng mô hình nhận diện khẩu trang sử dụng MobileNetV2 và transfer learning"
      ]
    },
    {
      "cell_type": "code",
      "execution_count": 1,
      "metadata": {
        "id": "30ZhV5AL8ie6"
      },
      "outputs": [],
      "source": [
        "# import the necessary packages\n",
        "from tensorflow.keras.preprocessing.image import ImageDataGenerator\n",
        "from tensorflow.keras.applications import MobileNetV2\n",
        "from tensorflow.keras.layers import AveragePooling2D\n",
        "from tensorflow.keras.layers import Dropout\n",
        "from tensorflow.keras.layers import Flatten\n",
        "from tensorflow.keras.layers import Dense\n",
        "from tensorflow.keras.layers import Input\n",
        "from tensorflow.keras.models import Model\n",
        "from tensorflow.keras.optimizers import Adam\n",
        "from tensorflow.keras.applications.mobilenet_v2 import preprocess_input\n",
        "from tensorflow.keras.preprocessing.image import img_to_array\n",
        "from tensorflow.keras.preprocessing.image import load_img\n",
        "from tensorflow.keras.utils import to_categorical\n",
        "from sklearn.preprocessing import LabelBinarizer\n",
        "from sklearn.model_selection import train_test_split\n",
        "from sklearn.metrics import classification_report\n",
        "from imutils import paths\n",
        "import matplotlib.pyplot as plt\n",
        "import numpy as np\n",
        "import os\n"
      ]
    },
    {
      "cell_type": "markdown",
      "metadata": {},
      "source": [
        "### Khởi tạo tốc độ học ban đầu, số epochs và kích thước batch"
      ]
    },
    {
      "cell_type": "code",
      "execution_count": 4,
      "metadata": {
        "id": "L94N5wSP8zpl"
      },
      "outputs": [],
      "source": [
        "INIT_LR = 1e-4\n",
        "EPOCHS = 20\n",
        "BS = 32"
      ]
    },
    {
      "cell_type": "code",
      "execution_count": 20,
      "metadata": {},
      "outputs": [],
      "source": [
        "# Đường dẫn đến thư mục chứa dữ liệu và các nhãn\n",
        "\n",
        "\n",
        "#Dataset link: https://www.kaggle.com/datasets/omkargurav/face-mask-dataset\n",
        "DIRECTORY = 'dataset'\n",
        "CATEGORIES = [\"with_mask\", \"without_mask\"]"
      ]
    },
    {
      "cell_type": "markdown",
      "metadata": {},
      "source": [
        "### Khởi tạo dataset, label và tiền xử lý theo MobileNetV2"
      ]
    },
    {
      "cell_type": "code",
      "execution_count": 21,
      "metadata": {
        "colab": {
          "base_uri": "https://localhost:8080/"
        },
        "id": "HTAhkush8zsD",
        "outputId": "f23f0e15-7d2f-4379-9aba-db05e9a056f1"
      },
      "outputs": [
        {
          "name": "stderr",
          "output_type": "stream",
          "text": [
            "C:\\Users\\ntt60\\AppData\\Local\\Packages\\PythonSoftwareFoundation.Python.3.10_qbz5n2kfra8p0\\LocalCache\\local-packages\\Python310\\site-packages\\PIL\\Image.py:996: UserWarning: Palette images with Transparency expressed in bytes should be converted to RGBA images\n",
            "  warnings.warn(\n"
          ]
        },
        {
          "ename": "",
          "evalue": "",
          "output_type": "error",
          "traceback": [
            "\u001b[1;31mThe Kernel crashed while executing code in the current cell or a previous cell. \n",
            "\u001b[1;31mPlease review the code in the cell(s) to identify a possible cause of the failure. \n",
            "\u001b[1;31mClick <a href='https://aka.ms/vscodeJupyterKernelCrash'>here</a> for more info. \n",
            "\u001b[1;31mView Jupyter <a href='command:jupyter.viewOutput'>log</a> for further details."
          ]
        }
      ],
      "source": [
        "\n",
        "data = []\n",
        "labels = []\n",
        "\n",
        "for category in CATEGORIES:\n",
        "    path = os.path.join(DIRECTORY, category)\n",
        "    for img in os.listdir(path):\n",
        "        img_path = os.path.join(path, img)\n",
        "        # Tải hình ảnh và thay đổi kích thước về (224, 224) (đúng kích thước đầu vào của MobileNetV2)\n",
        "        image = load_img(img_path, target_size=(224, 224))\n",
        "        image = img_to_array(image)\n",
        "        # Tiền xử lý hình ảnh theo yêu cầu của MobileNetV2\n",
        "        image = preprocess_input(image)\n",
        "\n",
        "        # Thêm hình ảnh và nhãn tương ứng vào danh sách data và labels\n",
        "        data.append(image)\n",
        "        labels.append(category)\n"
      ]
    },
    {
      "cell_type": "code",
      "execution_count": 7,
      "metadata": {
        "id": "i-JN4l7f-Soj"
      },
      "outputs": [],
      "source": [
        "# Mã hóa one-hot trên nhãn\n",
        "lb = LabelBinarizer()\n",
        "labels = lb.fit_transform(labels)\n",
        "labels = to_categorical(labels)\n",
        "\n",
        "# Chuyển đổi data và labels thành các mảng numpy\n",
        "data = np.array(data, dtype=\"float32\")\n",
        "labels = np.array(labels)\n",
        "\n",
        "# data split\n",
        "(trainX, testX, trainY, testY) = train_test_split(data, labels,\n",
        "    test_size=0.20, stratify=labels, random_state=42)\n"
      ]
    },
    {
      "cell_type": "markdown",
      "metadata": {},
      "source": [
        "### Thực hiện tăng cường dữ liệu"
      ]
    },
    {
      "cell_type": "code",
      "execution_count": 8,
      "metadata": {
        "id": "UFVrKNjQ-SrD"
      },
      "outputs": [],
      "source": [
        "\n",
        "aug = ImageDataGenerator(\n",
        "    rotation_range=20,          # Góc xoay tối đa của hình ảnh\n",
        "    zoom_range=0.15,            # Phạm vi thu phóng ngẫu nhiên\n",
        "    width_shift_range=0.2,      # Phạm vi dịch ngang ngẫu nhiên\n",
        "    height_shift_range=0.2,     # Phạm vi dịch dọc ngẫu nhiên\n",
        "    shear_range=0.15,           # Phạm vi cắt ngẫu nhiên\n",
        "    horizontal_flip=True,       # Lật ngang ngẫu nhiên\n",
        "    fill_mode=\"nearest\"         #  sử dụng chiến lược \"nearest\" để điền giá trị gần nhất cho các pixel mới tạo ra.\n",
        ")\n"
      ]
    },
    {
      "cell_type": "code",
      "execution_count": 9,
      "metadata": {
        "colab": {
          "base_uri": "https://localhost:8080/"
        },
        "id": "L07jOcso-Std",
        "outputId": "fec53d1a-94b0-40a7-e09c-4369cd6e5052"
      },
      "outputs": [
        {
          "name": "stdout",
          "output_type": "stream",
          "text": [
            "WARNING:tensorflow:`input_shape` is undefined or non-square, or `rows` is not in [96, 128, 160, 192, 224]. Weights for input shape (224, 224) will be loaded as the default.\n"
          ]
        }
      ],
      "source": [
        "# Tải mô hình MobileNetV2 đã được huấn luyện trên ImageNet\n",
        "baseModel = MobileNetV2(weights=\"imagenet\", include_top=False,\n",
        "    input_tensor=Input(shape=(224, 224, 3)))"
      ]
    },
    {
      "cell_type": "markdown",
      "metadata": {},
      "source": [
        "### Xây dựng phần đầu của mô hình"
      ]
    },
    {
      "cell_type": "code",
      "execution_count": 10,
      "metadata": {
        "id": "Kt2wvSCu-SwF"
      },
      "outputs": [],
      "source": [
        "headModel = baseModel.output\n",
        "\n",
        "# Thêm lớp trung bình của các tính năng (AveragePooling2D)\n",
        "headModel = AveragePooling2D(pool_size=(7, 7))(headModel)\n",
        "\n",
        "# Làm phẳng output của lớp Average\n",
        "headModel = Flatten(name=\"flatten\")(headModel)\n",
        "\n",
        "# Thêm một lớp fully connected với 128 đơn vị ẩn và hàm kích hoạt relu\n",
        "headModel = Dense(128, activation=\"relu\")(headModel)\n",
        "\n",
        "# Áp dụng Dropout với tỷ lệ 0.5 để tránh overfitting\n",
        "headModel = Dropout(0.5)(headModel)\n",
        "\n",
        "# Thêm lớp fully connected cuối cùng với 2 đơn vị đầu ra và hàm kích hoạt softmax cho việc phân loại thành 2 lớp\n",
        "headModel = Dense(2, activation=\"softmax\")(headModel)\n"
      ]
    },
    {
      "cell_type": "markdown",
      "metadata": {},
      "source": [
        "## Tạo ra mô hình hoàn chỉnh"
      ]
    },
    {
      "cell_type": "code",
      "execution_count": 11,
      "metadata": {
        "id": "2Of80suV-Sy9"
      },
      "outputs": [],
      "source": [
        "\n",
        "model = Model(inputs=baseModel.input, outputs=headModel)"
      ]
    },
    {
      "cell_type": "code",
      "execution_count": 12,
      "metadata": {
        "id": "ZmmCRS738zuK"
      },
      "outputs": [],
      "source": [
        "\"\"\" Lặp qua tất cả các lớp trong base model và đóng băng chúng\n",
        " để chúng sẽ *không* được cập nhật trong quá trình huấn luyện ban đầu để giữ lại các trọng số của các lớp \n",
        "đã được huấn luyện trước trên tập dữ liệu ImageNet và tránh việc ghi đè lên chúng trong quá trình huấn luyện mới.\"\"\"\n",
        "for layer in baseModel.layers:\n",
        "    layer.trainable = False"
      ]
    },
    {
      "cell_type": "markdown",
      "metadata": {},
      "source": [
        "## Biên dịch mô hình"
      ]
    },
    {
      "cell_type": "code",
      "execution_count": 13,
      "metadata": {
        "colab": {
          "base_uri": "https://localhost:8080/"
        },
        "id": "n5hG8Am_8zwb",
        "outputId": "f0233f65-9034-4e8b-ff17-a8d0a628f1bc"
      },
      "outputs": [
        {
          "name": "stdout",
          "output_type": "stream",
          "text": [
            "[INFO] compiling model...\n"
          ]
        },
        {
          "name": "stderr",
          "output_type": "stream",
          "text": [
            "C:\\Users\\ntt60\\AppData\\Local\\Packages\\PythonSoftwareFoundation.Python.3.10_qbz5n2kfra8p0\\LocalCache\\local-packages\\Python310\\site-packages\\keras\\optimizers\\legacy\\adam.py:117: UserWarning: The `lr` argument is deprecated, use `learning_rate` instead.\n",
            "  super().__init__(name, **kwargs)\n"
          ]
        }
      ],
      "source": [
        "\n",
        "print(\"[INFO] compiling model...\")\n",
        "from tensorflow.keras.optimizers import legacy\n",
        "opt = legacy.Adam(lr=INIT_LR, decay=INIT_LR / EPOCHS)\n",
        "model.compile(loss=\"binary_crossentropy\", optimizer=opt,\n",
        "    metrics=[\"accuracy\"])\n"
      ]
    },
    {
      "cell_type": "markdown",
      "metadata": {},
      "source": [
        "# Huấn luyện phần đầu của mô hình"
      ]
    },
    {
      "cell_type": "code",
      "execution_count": 14,
      "metadata": {
        "colab": {
          "base_uri": "https://localhost:8080/"
        },
        "id": "JjG5KJdO8zys",
        "outputId": "d9769622-8a24-443f-e3fe-97bff7a86061"
      },
      "outputs": [
        {
          "name": "stdout",
          "output_type": "stream",
          "text": [
            "[INFO] training head...\n",
            "Epoch 1/20\n",
            "95/95 [==============================] - 56s 556ms/step - loss: 0.4031 - accuracy: 0.8520 - val_loss: 0.1516 - val_accuracy: 0.9857\n",
            "Epoch 2/20\n",
            "95/95 [==============================] - 54s 563ms/step - loss: 0.1515 - accuracy: 0.9631 - val_loss: 0.0807 - val_accuracy: 0.9896\n",
            "Epoch 3/20\n",
            "95/95 [==============================] - 52s 550ms/step - loss: 0.0976 - accuracy: 0.9759 - val_loss: 0.0573 - val_accuracy: 0.9922\n",
            "Epoch 4/20\n",
            "95/95 [==============================] - 50s 521ms/step - loss: 0.0795 - accuracy: 0.9789 - val_loss: 0.0477 - val_accuracy: 0.9922\n",
            "Epoch 5/20\n",
            "95/95 [==============================] - 50s 526ms/step - loss: 0.0634 - accuracy: 0.9825 - val_loss: 0.0426 - val_accuracy: 0.9922\n",
            "Epoch 6/20\n",
            "95/95 [==============================] - 53s 555ms/step - loss: 0.0571 - accuracy: 0.9835 - val_loss: 0.0375 - val_accuracy: 0.9948\n",
            "Epoch 7/20\n",
            "95/95 [==============================] - 53s 559ms/step - loss: 0.0600 - accuracy: 0.9838 - val_loss: 0.0377 - val_accuracy: 0.9922\n",
            "Epoch 8/20\n",
            "95/95 [==============================] - 53s 557ms/step - loss: 0.0485 - accuracy: 0.9878 - val_loss: 0.0341 - val_accuracy: 0.9922\n",
            "Epoch 9/20\n",
            "95/95 [==============================] - 52s 546ms/step - loss: 0.0400 - accuracy: 0.9885 - val_loss: 0.0322 - val_accuracy: 0.9922\n",
            "Epoch 10/20\n",
            "95/95 [==============================] - 54s 570ms/step - loss: 0.0456 - accuracy: 0.9865 - val_loss: 0.0300 - val_accuracy: 0.9948\n",
            "Epoch 11/20\n",
            "95/95 [==============================] - 53s 555ms/step - loss: 0.0352 - accuracy: 0.9901 - val_loss: 0.0325 - val_accuracy: 0.9922\n",
            "Epoch 12/20\n",
            "95/95 [==============================] - 54s 566ms/step - loss: 0.0376 - accuracy: 0.9878 - val_loss: 0.0290 - val_accuracy: 0.9948\n",
            "Epoch 13/20\n",
            "95/95 [==============================] - 52s 544ms/step - loss: 0.0409 - accuracy: 0.9895 - val_loss: 0.0309 - val_accuracy: 0.9922\n",
            "Epoch 14/20\n",
            "95/95 [==============================] - 52s 543ms/step - loss: 0.0378 - accuracy: 0.9885 - val_loss: 0.0318 - val_accuracy: 0.9909\n",
            "Epoch 15/20\n",
            "95/95 [==============================] - 54s 566ms/step - loss: 0.0386 - accuracy: 0.9885 - val_loss: 0.0310 - val_accuracy: 0.9922\n",
            "Epoch 16/20\n",
            "95/95 [==============================] - 52s 549ms/step - loss: 0.0330 - accuracy: 0.9891 - val_loss: 0.0279 - val_accuracy: 0.9922\n",
            "Epoch 17/20\n",
            "95/95 [==============================] - 55s 575ms/step - loss: 0.0261 - accuracy: 0.9934 - val_loss: 0.0274 - val_accuracy: 0.9922\n",
            "Epoch 18/20\n",
            "95/95 [==============================] - 54s 567ms/step - loss: 0.0253 - accuracy: 0.9937 - val_loss: 0.0276 - val_accuracy: 0.9922\n",
            "Epoch 19/20\n",
            "95/95 [==============================] - 53s 554ms/step - loss: 0.0276 - accuracy: 0.9918 - val_loss: 0.0273 - val_accuracy: 0.9922\n",
            "Epoch 20/20\n",
            "95/95 [==============================] - 53s 560ms/step - loss: 0.0259 - accuracy: 0.9931 - val_loss: 0.0246 - val_accuracy: 0.9935\n"
          ]
        }
      ],
      "source": [
        "\n",
        "print(\"[INFO] training head...\")\n",
        "H = model.fit(\n",
        "    aug.flow(trainX, trainY, batch_size=BS),\n",
        "    steps_per_epoch=len(trainX) // BS,\n",
        "    validation_data=(testX, testY),\n",
        "    validation_steps=len(testX) // BS,\n",
        "    epochs=EPOCHS)\n"
      ]
    },
    {
      "cell_type": "markdown",
      "metadata": {},
      "source": [
        "##  Thực hiện đánh giá hiệu suất của mô hình trên tập dữ liệu kiểm tra"
      ]
    },
    {
      "cell_type": "code",
      "execution_count": 15,
      "metadata": {
        "colab": {
          "base_uri": "https://localhost:8080/"
        },
        "id": "IVEYkfQ-8z0a",
        "outputId": "4e1e3ed6-e8a0-45ed-dae9-1cc9640b05a2"
      },
      "outputs": [
        {
          "name": "stdout",
          "output_type": "stream",
          "text": [
            "[INFO] evaluating network...\n",
            "24/24 [==============================] - 10s 407ms/step\n"
          ]
        }
      ],
      "source": [
        "\n",
        "print(\"[INFO] evaluating network...\")\n",
        "predIdxs = model.predict(testX, batch_size=BS)\n"
      ]
    },
    {
      "cell_type": "code",
      "execution_count": 16,
      "metadata": {
        "id": "xq-vd_L48z2r"
      },
      "outputs": [],
      "source": [
        "# Đối với mỗi hình ảnh trong tập dữ liệu kiểm tra, chúng ta cần tìm chỉ số của nhãn có xác suất dự đoán cao nhất\n",
        "# thực hiện việc tìm chỉ số của nhãn có xác suất dự đoán cao nhất cho mỗi hình ảnh trong tập dữ liệu kiểm tra\n",
        "predIdxs = np.argmax(predIdxs, axis=1)\n"
      ]
    },
    {
      "cell_type": "code",
      "execution_count": 17,
      "metadata": {
        "colab": {
          "base_uri": "https://localhost:8080/"
        },
        "id": "tAzVdIKU8z4z",
        "outputId": "fb3450d4-2201-430d-ffe2-83aa285896f5"
      },
      "outputs": [
        {
          "name": "stdout",
          "output_type": "stream",
          "text": [
            "              precision    recall  f1-score   support\n",
            "\n",
            "   with_mask       0.99      0.99      0.99       383\n",
            "without_mask       0.99      0.99      0.99       384\n",
            "\n",
            "    accuracy                           0.99       767\n",
            "   macro avg       0.99      0.99      0.99       767\n",
            "weighted avg       0.99      0.99      0.99       767\n",
            "\n"
          ]
        }
      ],
      "source": [
        "# Hiển thị báo cáo phân loại\n",
        "print(classification_report(testY.argmax(axis=1), predIdxs,\n",
        "    target_names=lb.classes_))"
      ]
    },
    {
      "cell_type": "code",
      "execution_count": 18,
      "metadata": {
        "colab": {
          "base_uri": "https://localhost:8080/"
        },
        "id": "Qsjdy7cH8z67",
        "outputId": "8f06a318-2037-40da-a713-a10302ea5700"
      },
      "outputs": [
        {
          "name": "stdout",
          "output_type": "stream",
          "text": [
            "[INFO] saving mask detector model...\n"
          ]
        }
      ],
      "source": [
        "# Lưu mô hình\n",
        "print(\"[INFO] saving mask detector model...\")\n",
        "model.save(\"mask_detector.model\", save_format=\"h5\")"
      ]
    },
    {
      "cell_type": "code",
      "execution_count": 19,
      "metadata": {
        "colab": {
          "base_uri": "https://localhost:8080/",
          "height": 477
        },
        "id": "30qi0GPj8z8-",
        "outputId": "dfe4b17b-7462-4681-d7ea-b0aaeb089b93"
      },
      "outputs": [
        {
          "data": {
            "image/png": "[encoded data removed]",
            "text/plain": [
              "<Figure size 640x480 with 1 Axes>"
            ]
          },
          "metadata": {},
          "output_type": "display_data"
        }
      ],
      "source": [
        "# Vẽ biểu đồ về sự thay đổi của loss và accuracy trong quá trình huấn luyện\n",
        "N = EPOCHS\n",
        "plt.style.use(\"ggplot\")\n",
        "plt.figure()\n",
        "plt.plot(np.arange(0, N), H.history[\"loss\"], label=\"train_loss\")\n",
        "plt.plot(np.arange(0, N), H.history[\"val_loss\"], label=\"val_loss\")\n",
        "plt.plot(np.arange(0, N), H.history[\"accuracy\"], label=\"train_acc\")\n",
        "plt.plot(np.arange(0, N), H.history[\"val_accuracy\"], label=\"val_acc\")\n",
        "plt.title(\"Training Loss and Accuracy\")\n",
        "plt.xlabel(\"Epoch #\")\n",
        "plt.ylabel(\"Loss/Accuracy\")\n",
        "plt.legend(loc=\"lower left\")\n",
        "plt.savefig(\"plot.png\")\n"
      ]
    }
  ],
  "metadata": {
    "colab": {
      "provenance": []
    },
    "kernelspec": {
      "display_name": "Python 3",
      "name": "python3"
    },
    "language_info": {
      "codemirror_mode": {
        "name": "ipython",
        "version": 3
      },
      "file_extension": ".py",
      "mimetype": "text/x-python",
      "name": "python",
      "nbconvert_exporter": "python",
      "pygments_lexer": "ipython3",
      "version": "3.10.11"
    }
  },
  "nbformat": 4,
  "nbformat_minor": 0
}
